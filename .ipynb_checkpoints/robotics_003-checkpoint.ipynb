{
 "cells": [
  {
   "cell_type": "code",
   "execution_count": 1,
   "metadata": {},
   "outputs": [],
   "source": [
    "import matplotlib\n",
    "matplotlib.use(\"nbagg\")\n",
    "import matplotlib.animation as anm\n",
    "import matplotlib.pyplot as plt\n",
    "import math\n",
    "import matplotlib.patches as patches\n",
    "import numpy as np"
   ]
  },
  {
   "cell_type": "code",
   "execution_count": 2,
   "metadata": {},
   "outputs": [],
   "source": [
    "class World:\n",
    "    def __init__(self,debug=True):\n",
    "        self.objects = []\n",
    "        self.debug = debug\n",
    "        \n",
    "    def append(self,obj):\n",
    "        self.objects.append(obj)\n",
    "    \n",
    "    def draw(self):\n",
    "        fig = plt.figure(figsize=(8,8))\n",
    "        ax = fig.add_subplot(111)\n",
    "        ax.set_aspect(\"equal\")\n",
    "        ax.set_xlim(-5,5)\n",
    "        ax.set_ylim(-5,5)\n",
    "        ax.set_xlabel(\"X\",fontsize=20)\n",
    "        ax.set_ylabel(\"Y\",fontsize=20)\n",
    "        \n",
    "        elems = []\n",
    "        \n",
    "        if self.debug:\n",
    "            for i in range(1000):\n",
    "                self.one_step(i,elems,ax)\n",
    "        else:\n",
    "            self.ani = anm.FuncAnimation(fig,self.one_step,fargs=(elems,ax),frams=10,interval=1000,repeat=False)\n",
    "            plt.show()\n",
    "    \n",
    "    def one_step(self,i,elems,ax):\n",
    "        while elems: elems.pop().remove()\n",
    "        elems.append(ax.text(-4.4,4.5,\"t = \"+str(i),fontsize=10))\n",
    "        for obj in self.objects:\n",
    "            obj.draw(ax,elems)"
   ]
  },
  {
   "cell_type": "code",
   "execution_count": 3,
   "metadata": {},
   "outputs": [],
   "source": [
    "class IdealRobot:\n",
    "    def __init__(self,pose,color=\"black\"):\n",
    "        self.pose = pose\n",
    "        self.r = 0.2\n",
    "        self.color = color\n",
    "    \n",
    "    def draw(self,ax,elems):\n",
    "        x,y,theta = self.pose\n",
    "        xn = x + self.r * math.cos(theta)\n",
    "        yn = y + self.r * math.sin(theta)\n",
    "        elems += ax.plot([x,xn],[y,yn],color=self.color)\n",
    "        c = patches.Circle(xy=(x,y),radius=self.r,fill=False,color=self.color)\n",
    "        elems.append(ax.add_patch(c))\n",
    "    \n",
    "    @classmethod\n",
    "    def state_transition(cls,nu,omega,time,pose):\n",
    "        t0 = pose[2]\n",
    "        #fabs:絶対値\n",
    "        if math.fabs(omega) < 1e-10:\n",
    "            return pose + np.array([\n",
    "                nu * math.cos(t0),\n",
    "                nu * math.sin(t0),\n",
    "                omega\n",
    "            ]) * time\n",
    "        \n",
    "        else:\n",
    "            return pose + np.array([\n",
    "                nu /omega * (math.sin(t0 + omega*time) - math.sin(t0)),\n",
    "                nu /omega * (- math.cos(t0 + omega*time) + math.cos(t0)),\n",
    "                omega * time\n",
    "            ])\n",
    "    "
   ]
  },
  {
   "cell_type": "code",
   "execution_count": 4,
   "metadata": {},
   "outputs": [],
   "source": [
    "class Agent:\n",
    "    def __init__(self,nu,omega):\n",
    "        self.nu = nu\n",
    "        self.omega = omega\n",
    "    \n",
    "    #observationはセンサの受け渡しに使う\n",
    "    def decision(self,observation=None):\n",
    "        return sele.nu,self.omega"
   ]
  },
  {
   "cell_type": "code",
   "execution_count": 5,
   "metadata": {},
   "outputs": [],
   "source": [
    "world = World()\n",
    "\n",
    "robot1 = IdealRobot(np.array([2,3,math.pi/6]).T)\n",
    "robot2 = IdealRobot( np.array([-2,1,math.pi/6*5]).T,\"red\")\n",
    "world.append(robot1)\n",
    "world.append(robot2)\n",
    "world.draw()"
   ]
  },
  {
   "cell_type": "code",
   "execution_count": null,
   "metadata": {},
   "outputs": [],
   "source": []
  }
 ],
 "metadata": {
  "kernelspec": {
   "display_name": "Python 3",
   "language": "python",
   "name": "python3"
  },
  "language_info": {
   "codemirror_mode": {
    "name": "ipython",
    "version": 3
   },
   "file_extension": ".py",
   "mimetype": "text/x-python",
   "name": "python",
   "nbconvert_exporter": "python",
   "pygments_lexer": "ipython3",
   "version": "3.6.5"
  }
 },
 "nbformat": 4,
 "nbformat_minor": 2
}
